{
 "cells": [
  {
   "cell_type": "code",
   "execution_count": 12,
   "metadata": {},
   "outputs": [],
   "source": [
    "import numpy as np\n",
    "import pandas as pd\n",
    "import matplotlib.pyplot as plt\n",
    "import seaborn as sns"
   ]
  },
  {
   "cell_type": "code",
   "execution_count": 13,
   "metadata": {},
   "outputs": [],
   "source": [
    "# init graph\n",
    "\n",
    "font = {\n",
    "    'family' : 'DejaVu Sans',\n",
    "    'weight' : 'normal',\n",
    "    'size'   : 20\n",
    "}\n",
    "\n",
    "plt.rc('font', **font)"
   ]
  },
  {
   "cell_type": "markdown",
   "metadata": {},
   "source": [
    "# Summary"
   ]
  },
  {
   "cell_type": "code",
   "execution_count": null,
   "metadata": {},
   "outputs": [],
   "source": [
    "hist_worldcup = pd.read_csv('WorldCupsSummary.csv')\n",
    "\n",
    "hist_worldcup"
   ]
  },
  {
   "cell_type": "markdown",
   "metadata": {},
   "source": [
    "From the table above, we can conclude the summary for all world cups."
   ]
  },
  {
   "cell_type": "markdown",
   "metadata": {},
   "source": [
    "## Preprocessing"
   ]
  },
  {
   "cell_type": "code",
   "execution_count": null,
   "metadata": {},
   "outputs": [],
   "source": [
    "hist_worldcup = hist_worldcup.replace('Germany FR', 'Germany') # Replacing Germany FR with Germany\n",
    "\n",
    "hist_worldcup"
   ]
  },
  {
   "cell_type": "markdown",
   "metadata": {},
   "source": [
    "## Analysis\n",
    "\n",
    "To analyze the following questions:\n",
    "\n",
    "- Trends in the number of live audience attendance over the years  \n",
    "- Trends in the number of participating teams over the years  \n",
    "- Trends in the number of goals scored over the years  \n",
    "- Which national team has won the championship the most in history?  \n",
    "- Analysis of the continents of champion teams  \n",
    "- Which national teams frequently reach the finals or semi-finals?  \n",
    "- What is the probability of a team winning the championship after reaching the finals?  \n",
    "- How likely is the host country to reach the finals or semi-finals?  "
   ]
  },
  {
   "cell_type": "markdown",
   "metadata": {},
   "source": [
    "### Trends in the number of live audience attendance over the years"
   ]
  },
  {
   "cell_type": "code",
   "execution_count": null,
   "metadata": {},
   "outputs": [],
   "source": [
    "fig, ax = plt.subplots(figsize=(12, 8))\n",
    "plt.title(\"Attendance per cup\")\n",
    "\n",
    "hist_worldcup.plot.scatter(\n",
    "    x='Year', \n",
    "    y='Attendance', \n",
    "    s=100,\n",
    "    ax=ax\n",
    ")\n",
    "\n",
    "# disable all the spines\n",
    "for spine in ax.spines.values():\n",
    "    spine.set_visible(False)\n",
    "\n",
    "# disable labels\n",
    "ax.set_xlabel(None)\n",
    "ax.set_ylabel(None)\n",
    "\n",
    "# enable grid\n",
    "ax.grid(visible=True)\n",
    "\n",
    "# set tick params\n",
    "ax.tick_params(axis='both', which='major', labelsize=12)\n",
    "\n",
    "# set xticks\n",
    "ax.set_xticks(np.arange(1930, 2021, 5))\n",
    "ax.set_yticks(np.arange(0, 4000000, 500000))\n",
    "\n",
    "ax.ticklabel_format(style='plain')\n",
    "\n",
    "plt.tick_params(bottom=False, left=False)"
   ]
  },
  {
   "cell_type": "markdown",
   "metadata": {},
   "source": [
    "### Trends in the number of participating teams over the years  "
   ]
  },
  {
   "cell_type": "code",
   "execution_count": null,
   "metadata": {},
   "outputs": [],
   "source": [
    "fig, ax = plt.subplots(figsize=(12, 8))\n",
    "plt.title(\"Teams per cup\")\n",
    "\n",
    "hist_worldcup.plot.scatter(\n",
    "    x='Year', \n",
    "    y='QualifiedTeams', \n",
    "    s=100,\n",
    "    ax=ax\n",
    ")\n",
    "\n",
    "# disable all the spines\n",
    "for spine in ax.spines.values():\n",
    "    spine.set_visible(False)\n",
    "\n",
    "# disable labels\n",
    "ax.set_xlabel(None)\n",
    "ax.set_ylabel(None)\n",
    "\n",
    "# enable grid\n",
    "ax.grid(visible=True)\n",
    "\n",
    "# set tick params\n",
    "ax.tick_params(axis='both', which='major', labelsize=12)\n",
    "\n",
    "# set xticks\n",
    "ax.set_xticks(np.arange(1930, 2021, 5))\n",
    "ax.set_yticks(np.arange(0, 40, 2))\n",
    "\n",
    "ax.ticklabel_format(style='plain')\n",
    "\n",
    "plt.tick_params(bottom=False, left=False)"
   ]
  },
  {
   "cell_type": "markdown",
   "metadata": {},
   "source": [
    "### Trends in the number of goals scored over the years  "
   ]
  },
  {
   "cell_type": "code",
   "execution_count": null,
   "metadata": {},
   "outputs": [],
   "source": [
    "fig, ax = plt.subplots(figsize=(12, 8))\n",
    "plt.title(\"Goals per cup\")\n",
    "\n",
    "hist_worldcup.plot.scatter(\n",
    "    x='Year', \n",
    "    y='GoalsScored', \n",
    "    s=100,\n",
    "    ax=ax\n",
    ")\n",
    "\n",
    "# disable all the spines\n",
    "for spine in ax.spines.values():\n",
    "    spine.set_visible(False)\n",
    "\n",
    "# disable labels\n",
    "ax.set_xlabel(None)\n",
    "ax.set_ylabel(None)\n",
    "\n",
    "# enable grid\n",
    "ax.grid(visible=True)\n",
    "\n",
    "# set tick params\n",
    "ax.tick_params(axis='both', which='major', labelsize=12)\n",
    "\n",
    "# set xticks\n",
    "ax.set_xticks(np.arange(1930, 2021, 5))\n",
    "ax.set_yticks(np.arange(0, 200, 10))\n",
    "\n",
    "ax.ticklabel_format(style='plain')\n",
    "\n",
    "plt.tick_params(bottom=False, left=False)"
   ]
  },
  {
   "cell_type": "markdown",
   "metadata": {},
   "source": [
    "### Which national team has won the championship the most in history? "
   ]
  },
  {
   "cell_type": "code",
   "execution_count": null,
   "metadata": {},
   "outputs": [],
   "source": [
    "fig, ax = plt.subplots(figsize=(12, 8))\n",
    "plt.title(\"Champion Number per Country\")\n",
    "\n",
    "sns.countplot(\n",
    "    x='Winner',\n",
    "    data=hist_worldcup,\n",
    "    order = hist_worldcup['Winner'].value_counts().index,\n",
    "    ax=ax\n",
    ")\n",
    "\n",
    "# disable all the spines\n",
    "for spine in ax.spines.values():\n",
    "    spine.set_visible(False)\n",
    "\n",
    "# disable labels\n",
    "ax.set_xlabel(None)\n",
    "ax.set_ylabel(None)\n",
    "\n",
    "plt.tick_params(labelleft=False, left=False, labelsize=14)\n",
    "\n",
    "for i in ax.containers:\n",
    "    ax.bar_label(i, label_type='edge', fontsize=14)"
   ]
  },
  {
   "cell_type": "markdown",
   "metadata": {},
   "source": [
    "### Analysis of the continents of champion teams  "
   ]
  },
  {
   "cell_type": "code",
   "execution_count": null,
   "metadata": {},
   "outputs": [],
   "source": [
    "fig, ax = plt.subplots(figsize=(12, 8))\n",
    "plt.title(\"Champion Number per Continent\")\n",
    "\n",
    "sns.countplot(\n",
    "    x='WinnerContinent',\n",
    "    data=hist_worldcup,\n",
    "    order = hist_worldcup['WinnerContinent'].value_counts().index,\n",
    "    ax=ax\n",
    ")\n",
    "\n",
    "# disable all the spines\n",
    "for spine in ax.spines.values():\n",
    "    spine.set_visible(False)\n",
    "\n",
    "# disable labels\n",
    "ax.set_xlabel(None)\n",
    "ax.set_ylabel(None)\n",
    "\n",
    "plt.tick_params(labelleft=False, left=False, labelsize=14)\n",
    "\n",
    "for i in ax.containers:\n",
    "    ax.bar_label(i, label_type='edge', fontsize=14)"
   ]
  },
  {
   "cell_type": "markdown",
   "metadata": {},
   "source": [
    "### Which national teams frequently reach the finals or semi-finals?  \n"
   ]
  },
  {
   "cell_type": "code",
   "execution_count": null,
   "metadata": {},
   "outputs": [],
   "source": [
    "fig, ax = plt.subplots(figsize=(28, 4))\n",
    "plt.title(\"Semi Finalist per Country\")\n",
    "\n",
    "# calculate the number of semi-finalists\n",
    "# = Winner + Second + Third + Fourth\n",
    "\n",
    "# get all occurrences of the countries\n",
    "countries = []\n",
    "for i in hist_worldcup['Winner']:\n",
    "    countries.append(i)\n",
    "for i in hist_worldcup['Second']:\n",
    "    countries.append(i)\n",
    "for i in hist_worldcup['Third']:\n",
    "    countries.append(i)\n",
    "for i in hist_worldcup['Fourth']:\n",
    "    countries.append(i)\n",
    "\n",
    "sns.countplot(\n",
    "    x=countries,\n",
    "    order = pd.Series(countries).value_counts().index,\n",
    "    ax=ax\n",
    ")\n",
    "\n",
    "# disable all the spines\n",
    "for spine in ax.spines.values():\n",
    "    spine.set_visible(False)\n",
    "\n",
    "# disable labels\n",
    "ax.set_xlabel(None)\n",
    "ax.set_ylabel(None)\n",
    "\n",
    "plt.tick_params(labelleft=False, left=False, labelsize=12)\n",
    "\n",
    "for i in ax.containers:\n",
    "    ax.bar_label(i, label_type='edge', fontsize=12)"
   ]
  },
  {
   "cell_type": "code",
   "execution_count": null,
   "metadata": {},
   "outputs": [],
   "source": [
    "fig, ax = plt.subplots(figsize=(28, 4))\n",
    "plt.title(\"Finalist per Country\")\n",
    "\n",
    "# calculate the number of finalists\n",
    "# = Winner + Second\n",
    "\n",
    "# get all occurrences of the countries\n",
    "countries = []\n",
    "for i in hist_worldcup['Winner']:\n",
    "    countries.append(i)\n",
    "for i in hist_worldcup['Second']:\n",
    "    countries.append(i)\n",
    "\n",
    "sns.countplot(\n",
    "    x=countries,\n",
    "    order = pd.Series(countries).value_counts().index,\n",
    "    ax=ax\n",
    ")\n",
    "\n",
    "# disable all the spines\n",
    "for spine in ax.spines.values():\n",
    "    spine.set_visible(False)\n",
    "\n",
    "# disable labels\n",
    "ax.set_xlabel(None)\n",
    "ax.set_ylabel(None)\n",
    "\n",
    "plt.tick_params(labelleft=False, left=False, labelsize=12)\n",
    "\n",
    "for i in ax.containers:\n",
    "    ax.bar_label(i, label_type='edge', fontsize=12)"
   ]
  },
  {
   "cell_type": "markdown",
   "metadata": {},
   "source": [
    "### What is the probability of a team winning the championship after reaching the finals?  "
   ]
  },
  {
   "cell_type": "code",
   "execution_count": null,
   "metadata": {},
   "outputs": [],
   "source": [
    "fig, ax = plt.subplots(figsize=(20, 4))\n",
    "plt.title(\"Probability of Winning after Reaching Final\")\n",
    "\n",
    "# calculate the number of finalist\n",
    "# = Winner + Second\n",
    "\n",
    "# get all occurrences of the countries\n",
    "countries = []\n",
    "for i in hist_worldcup['Winner']:\n",
    "    countries.append(i)\n",
    "for i in hist_worldcup['Second']:\n",
    "    countries.append(i)\n",
    "\n",
    "# calculate the probability of winning after reaching final\n",
    "winning = []\n",
    "for i in hist_worldcup['Winner']:\n",
    "    winning.append(i)\n",
    "\n",
    "probability = []\n",
    "for i in countries:\n",
    "    probability.append(winning.count(i) / countries.count(i))\n",
    "\n",
    "# sort the countries by probability\n",
    "countries, probability = zip(*sorted(zip(countries, probability), key=lambda x: x[1], reverse=True))\n",
    "\n",
    "sns.barplot(\n",
    "    x=countries,\n",
    "    y=probability,\n",
    "    ax=ax\n",
    ")\n",
    "\n",
    "# disable all the spines\n",
    "for spine in ax.spines.values():\n",
    "    spine.set_visible(False)\n",
    "\n",
    "# disable labels\n",
    "ax.set_xlabel(None)\n",
    "ax.set_ylabel(None)\n",
    "\n",
    "plt.tick_params(labelleft=False, left=False, labelsize=12)\n",
    "\n",
    "for i in ax.containers:\n",
    "    ax.bar_label(i, label_type='edge', fontsize=12)"
   ]
  },
  {
   "cell_type": "markdown",
   "metadata": {},
   "source": [
    "### How likely is the host country to reach the finals or semi-finals? "
   ]
  },
  {
   "cell_type": "code",
   "execution_count": null,
   "metadata": {},
   "outputs": [],
   "source": [
    "fig, ax = plt.subplots(figsize=(12, 8))\n",
    "plt.title(\"Probability of the Host Reaching Final\")\n",
    "\n",
    "# for each cup, check if the host is in the finalist\n",
    "# = Winner + Second\n",
    "\n",
    "hist_worldcup['HostFinalist'] = 0\n",
    "\n",
    "for i in range(len(hist_worldcup)):\n",
    "    if hist_worldcup['HostCountry'][i] in [hist_worldcup['Winner'][i], hist_worldcup['Second'][i]]:\n",
    "        hist_worldcup.loc[i, 'HostFinalist'] = 1\n",
    "    else:\n",
    "        hist_worldcup.loc[i, 'HostFinalist'] = 0\n",
    "\n",
    "prob = hist_worldcup['HostFinalist'].value_counts(normalize=True)\n",
    "\n",
    "sns.barplot(\n",
    "    x=[['Not Host Finalist', 'Host Finalist'][i] for i in prob.index],\n",
    "    y=prob,\n",
    "    ax=ax\n",
    ")\n",
    "\n",
    "# disable all the spines\n",
    "for spine in ax.spines.values():\n",
    "    spine.set_visible(False)\n",
    "\n",
    "# disable labels\n",
    "ax.set_xlabel(None)\n",
    "ax.set_ylabel(None)\n",
    "\n",
    "plt.tick_params(labelleft=False, left=False, labelsize=12)\n",
    "\n",
    "for i in ax.containers:\n",
    "    ax.bar_label(i, label_type='edge', fontsize=12)"
   ]
  },
  {
   "cell_type": "code",
   "execution_count": null,
   "metadata": {},
   "outputs": [],
   "source": [
    "fig, ax = plt.subplots(figsize=(12, 8))\n",
    "plt.title(\"Probability of the Host Reaching Semi Final\")\n",
    "\n",
    "# for each cup, check if the host is in the semi-finalist\n",
    "# = Winner + Second + Third + Fourth\n",
    "\n",
    "hist_worldcup['HostSemiFinalist'] = 0\n",
    "\n",
    "for i in range(len(hist_worldcup)):\n",
    "    if hist_worldcup['HostCountry'][i] in \\\n",
    "        [   hist_worldcup['Winner'][i], \\\n",
    "            hist_worldcup['Second'][i], \\\n",
    "            hist_worldcup['Third'][i], \\\n",
    "            hist_worldcup['Fourth'][i]\n",
    "        ]:\n",
    "        hist_worldcup.loc[i, 'HostSemiFinalist'] = 1\n",
    "    else:\n",
    "        hist_worldcup.loc[i, 'HostSemiFinalist'] = 0\n",
    "\n",
    "prob = hist_worldcup['HostSemiFinalist'].value_counts(normalize=True)\n",
    "\n",
    "sns.barplot(\n",
    "    x=[['Not Host Semi Finalist', 'Host Semi Finalist'][i] for i in prob.index],\n",
    "    y=prob,\n",
    "    ax=ax\n",
    ")\n",
    "\n",
    "# disable all the spines\n",
    "for spine in ax.spines.values():\n",
    "    spine.set_visible(False)\n",
    "\n",
    "# disable labels\n",
    "ax.set_xlabel(None)\n",
    "ax.set_ylabel(None)\n",
    "\n",
    "plt.tick_params(labelleft=False, left=False, labelsize=12)\n",
    "\n",
    "for i in ax.containers:\n",
    "    ax.bar_label(i, label_type='edge', fontsize=12)"
   ]
  }
 ],
 "metadata": {
  "kernelspec": {
   "display_name": "softras",
   "language": "python",
   "name": "python3"
  },
  "language_info": {
   "codemirror_mode": {
    "name": "ipython",
    "version": 3
   },
   "file_extension": ".py",
   "mimetype": "text/x-python",
   "name": "python",
   "nbconvert_exporter": "python",
   "pygments_lexer": "ipython3",
   "version": "3.10.14"
  }
 },
 "nbformat": 4,
 "nbformat_minor": 2
}
